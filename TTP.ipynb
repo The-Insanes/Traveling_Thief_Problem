{
 "cells": [
  {
   "cell_type": "markdown",
   "metadata": {},
   "source": [
    "# Integrantes\n",
    "\n",
    "* Fabrizzio Mura\n",
    "* Joaquin Tapia\n",
    "* Matías Bugueño"
   ]
  },
  {
   "cell_type": "markdown",
   "metadata": {},
   "source": [
    "## Librerias necesarias"
   ]
  },
  {
   "cell_type": "code",
   "execution_count": 1,
   "metadata": {},
   "outputs": [],
   "source": [
    "from read_file import read_file\n",
    "from TTP import GA, objective_function\n",
    "from TTP.crossovers import SegmentSimple\n",
    "from TTP.mutations import ResettingScramble, ResettingSwamp, FlipScramble, FlipSwamp\n",
    "from TTP.Greedy import greedy_ttp\n",
    "from TTP.common import Item\n",
    "from read_file import read_file\n",
    "from copy import deepcopy\n",
    "import numpy as np"
   ]
  },
  {
   "cell_type": "markdown",
   "metadata": {},
   "source": [
    "## Funciones Necesarias"
   ]
  },
  {
   "cell_type": "code",
   "execution_count": 2,
   "metadata": {},
   "outputs": [],
   "source": [
    "def get_GA_items(thief_items: list, items: list[Item]) -> np.ndarray:\n",
    "    items_size = len(items)\n",
    "    thief_items_size = len(thief_items)\n",
    "    GA_items = np.zeros((items_size), dtype= int)\n",
    "\n",
    "    for i in range(items_size):\n",
    "        for j in range(thief_items_size):\n",
    "            if items[i].get_house_id() == thief_items[j]:\n",
    "                GA_items[i] = 1\n",
    "\n",
    "    return GA_items"
   ]
  },
  {
   "cell_type": "markdown",
   "metadata": {},
   "source": [
    "## Preparación de data"
   ]
  },
  {
   "cell_type": "code",
   "execution_count": 3,
   "metadata": {},
   "outputs": [],
   "source": [
    "name, thief , cities , items, ratio = read_file(\"./data/a280-ttp/a280_n279_bounded-strongly-corr_01.ttp\")\n",
    "\n",
    "data = {'Houses': cities,\n",
    "        'Items': items,\n",
    "        'Thief': {\n",
    "            'v_max': thief.get_v_max(),\n",
    "            'v_min': thief.get_v_min(),\n",
    "            'max_capacity': thief.get_max_weight()\n",
    "        },\n",
    "        'Ratio': ratio}"
   ]
  },
  {
   "cell_type": "markdown",
   "metadata": {},
   "source": [
    "## Algoritmo Greedy"
   ]
  },
  {
   "cell_type": "code",
   "execution_count": 4,
   "metadata": {},
   "outputs": [
    {
     "name": "stdout",
     "output_type": "stream",
     "text": [
      "Tiempo de ejecución: 0.107[s]\n",
      "Tiempo ladrón: 3589.88[s]\n",
      "Dinero: $23984\n",
      "Función objetivo: 3844.774\n",
      "Ruta del ladron: [1, 280, 2, 3, 279, 278, 4, 277, 276, 275, 274, 273, 272, 271, 16, 17, 18, 19, 20, 21, 128, 127, 126, 125, 30, 31, 32, 29, 28, 27, 26, 22, 25, 23, 24, 14, 13, 12, 11, 10, 8, 7, 9, 6, 5, 260, 259, 258, 257, 254, 253, 208, 207, 210, 209, 252, 255, 256, 249, 248, 247, 244, 241, 240, 239, 238, 231, 232, 233, 234, 235, 236, 237, 246, 245, 250, 251, 230, 229, 228, 227, 226, 225, 224, 223, 222, 219, 218, 215, 214, 211, 212, 213, 216, 217, 220, 221, 203, 202, 200, 144, 143, 142, 141, 140, 139, 138, 137, 136, 135, 134, 270, 269, 268, 267, 266, 265, 264, 263, 262, 261, 15, 133, 132, 131, 130, 129, 154, 155, 153, 156, 152, 151, 177, 176, 181, 180, 179, 178, 150, 149, 148, 147, 146, 145, 199, 198, 197, 194, 195, 196, 201, 193, 192, 191, 190, 189, 188, 187, 185, 184, 183, 182, 161, 162, 163, 164, 165, 166, 167, 168, 169, 101, 100, 99, 98, 93, 94, 95, 96, 97, 92, 91, 90, 89, 109, 108, 104, 103, 102, 170, 171, 172, 173, 106, 105, 107, 174, 175, 160, 159, 158, 157, 119, 120, 121, 122, 123, 124, 34, 33, 36, 35, 38, 37, 39, 40, 41, 42, 43, 60, 61, 118, 117, 115, 114, 111, 110, 112, 88, 83, 82, 81, 80, 79, 76, 75, 74, 73, 72, 71, 70, 67, 66, 65, 64, 63, 62, 116, 86, 85, 84, 87, 113, 59, 44, 45, 46, 47, 48, 49, 50, 51, 52, 53, 54, 55, 56, 57, 58, 68, 69, 77, 78, 186, 204, 205, 206, 243, 242]\n"
     ]
    }
   ],
   "source": [
    "route, thief_items, total_time, profit, execution_time = greedy_ttp(deepcopy(thief), cities)\n",
    "thief_items = [item.get_house_id() for item in thief_items]\n",
    "thief_items = get_GA_items(thief_items, items)\n",
    "sol = (route, thief_items)\n",
    "\n",
    "tarjet = objective_function(data, sol)\n",
    "\n",
    "print(f\"Tiempo de ejecución: {round(execution_time, 3)}[s]\")\n",
    "print(f\"Tiempo ladrón: {round(total_time, 3)}[s]\")\n",
    "print(f\"Dinero: ${profit}\")\n",
    "print(f\"Función objetivo: {round(tarjet, 3)}\")\n",
    "print(f'Ruta del ladron: {route}')"
   ]
  },
  {
   "cell_type": "markdown",
   "metadata": {},
   "source": [
    "## Algoritmo Genético"
   ]
  },
  {
   "cell_type": "code",
   "execution_count": 7,
   "metadata": {},
   "outputs": [],
   "source": [
    "if 1 in route: route.remove(1)\n",
    "\n",
    "problem_dict = {\n",
    "    'obj_func': objective_function,\n",
    "    'data': data,\n",
    "    'mut_class': ResettingScramble(),\n",
    "    'cross_class': SegmentSimple(),\n",
    "}\n",
    "\n",
    "optimizer = GA(epochs= 10, pop_size= 20, pc= 0.1, pm= 0.01)"
   ]
  },
  {
   "cell_type": "code",
   "execution_count": 8,
   "metadata": {},
   "outputs": [
    {
     "name": "stdout",
     "output_type": "stream",
     "text": [
      "Generation 0:\n",
      "   Fitness: 4549.945 Execution_time: 100.002\n",
      "Generation 1:\n",
      "   Fitness: 4549.945 Execution_time: 55.471\n",
      "Generation 2:\n",
      "   Fitness: 4549.945 Execution_time: 57.481\n",
      "Generation 3:\n",
      "   Fitness: 4549.945 Execution_time: 57.33\n",
      "Generation 4:\n",
      "   Fitness: 4549.945 Execution_time: 57.281\n"
     ]
    }
   ],
   "source": [
    "optimizer.solve(problem_dict)"
   ]
  }
 ],
 "metadata": {
  "kernelspec": {
   "display_name": ".venv",
   "language": "python",
   "name": "python3"
  },
  "language_info": {
   "codemirror_mode": {
    "name": "ipython",
    "version": 3
   },
   "file_extension": ".py",
   "mimetype": "text/x-python",
   "name": "python",
   "nbconvert_exporter": "python",
   "pygments_lexer": "ipython3",
   "version": "3.11.8"
  }
 },
 "nbformat": 4,
 "nbformat_minor": 2
}
