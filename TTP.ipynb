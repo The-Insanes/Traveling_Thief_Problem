{
 "cells": [
  {
   "cell_type": "markdown",
   "metadata": {},
   "source": [
    "# Integrantes\n",
    "\n",
    "* Fabrizzio Mura\n",
    "* Joaquin Tapia\n",
    "* Matías Bugueño"
   ]
  },
  {
   "cell_type": "markdown",
   "metadata": {},
   "source": [
    "## Librerias necesarias"
   ]
  },
  {
   "cell_type": "code",
   "execution_count": 10,
   "metadata": {},
   "outputs": [],
   "source": [
    "from read_file import read_file\n",
    "from TTP import GA, objective_function\n",
    "from TTP.crossovers import SegmentSimple\n",
    "from TTP.mutations import ResettingScramble, ResettingSwamp, FlipScramble, FlipSwamp\n",
    "from TTP.Greedy import greedy_ttp\n",
    "from TTP.common import Item\n",
    "from read_file import read_file\n",
    "from copy import deepcopy\n",
    "import numpy as np"
   ]
  },
  {
   "cell_type": "markdown",
   "metadata": {},
   "source": [
    "## Funciones Necesarias"
   ]
  },
  {
   "cell_type": "code",
   "execution_count": 11,
   "metadata": {},
   "outputs": [],
   "source": [
    "def get_GA_items(thief_items: list, items: list[Item]) -> np.ndarray:\n",
    "    items_size = len(items)\n",
    "    thief_items_size = len(thief_items)\n",
    "    GA_items = np.zeros((items_size), dtype= int)\n",
    "\n",
    "    for i in range(items_size):\n",
    "        for j in range(thief_items_size):\n",
    "            if items[i].get_house_id() == thief_items[j]:\n",
    "                GA_items[i] = 1\n",
    "\n",
    "    return GA_items"
   ]
  },
  {
   "cell_type": "markdown",
   "metadata": {},
   "source": [
    "## Preparación de data"
   ]
  },
  {
   "cell_type": "code",
   "execution_count": 12,
   "metadata": {},
   "outputs": [],
   "source": [
    "name, thief , cities , items, ratio = read_file(\"./data/a280-ttp/a280_n279_bounded-strongly-corr_01.ttp\")\n",
    "\n",
    "data = {'Houses': cities,\n",
    "        'Items': items,\n",
    "        'Thief': {\n",
    "            'v_max': thief.get_v_max(),\n",
    "            'v_min': thief.get_v_min(),\n",
    "            'max_capacity': thief.get_max_weight()\n",
    "        },\n",
    "        'Ratio': ratio}"
   ]
  },
  {
   "cell_type": "markdown",
   "metadata": {},
   "source": [
    "## Algoritmo Greedy"
   ]
  },
  {
   "cell_type": "code",
   "execution_count": 13,
   "metadata": {},
   "outputs": [
    {
     "name": "stdout",
     "output_type": "stream",
     "text": [
      "Tiempo de ejecución: 0.091[s]\n",
      "Tiempo ladrón: 3589.88[s]\n",
      "Dinero: $23984\n",
      "Función objetivo: 2804.685\n",
      "Ruta del ladron: [1, 280, 2, 3, 279, 278, 4, 277, 276, 275, 274, 273, 272, 271, 16, 17, 18, 19, 20, 21, 128, 127, 126, 125, 30, 31, 32, 29, 28, 27, 26, 22, 25, 23, 24, 14, 13, 12, 11, 10, 8, 7, 9, 6, 5, 260, 259, 258, 257, 254, 253, 208, 207, 210, 209, 252, 255, 256, 249, 248, 247, 244, 241, 240, 239, 238, 231, 232, 233, 234, 235, 236, 237, 246, 245, 250, 251, 230, 229, 228, 227, 226, 225, 224, 223, 222, 219, 218, 215, 214, 211, 212, 213, 216, 217, 220, 221, 203, 202, 200, 144, 143, 142, 141, 140, 139, 138, 137, 136, 135, 134, 270, 269, 268, 267, 266, 265, 264, 263, 262, 261, 15, 133, 132, 131, 130, 129, 154, 155, 153, 156, 152, 151, 177, 176, 181, 180, 179, 178, 150, 149, 148, 147, 146, 145, 199, 198, 197, 194, 195, 196, 201, 193, 192, 191, 190, 189, 188, 187, 185, 184, 183, 182, 161, 162, 163, 164, 165, 166, 167, 168, 169, 101, 100, 99, 98, 93, 94, 95, 96, 97, 92, 91, 90, 89, 109, 108, 104, 103, 102, 170, 171, 172, 173, 106, 105, 107, 174, 175, 160, 159, 158, 157, 119, 120, 121, 122, 123, 124, 34, 33, 36, 35, 38, 37, 39, 40, 41, 42, 43, 60, 61, 118, 117, 115, 114, 111, 110, 112, 88, 83, 82, 81, 80, 79, 76, 75, 74, 73, 72, 71, 70, 67, 66, 65, 64, 63, 62, 116, 86, 85, 84, 87, 113, 59, 44, 45, 46, 47, 48, 49, 50, 51, 52, 53, 54, 55, 56, 57, 58, 68, 69, 77, 78, 186, 204, 205, 206, 243, 242]\n"
     ]
    }
   ],
   "source": [
    "route, thief_items, total_time, profit, execution_time = greedy_ttp(deepcopy(thief), cities)\n",
    "thief_items = [item.get_house_id() for item in thief_items]\n",
    "thief_items = get_GA_items(thief_items, items)\n",
    "sol = (route, thief_items)\n",
    "\n",
    "tarjet = objective_function(data, sol)\n",
    "\n",
    "print(f\"Tiempo de ejecución: {round(execution_time, 3)}[s]\")\n",
    "print(f\"Tiempo ladrón: {round(total_time, 3)}[s]\")\n",
    "print(f\"Dinero: ${profit}\")\n",
    "print(f\"Función objetivo: {round(tarjet, 3)}\")\n",
    "print(f'Ruta del ladron: {route}')"
   ]
  },
  {
   "cell_type": "markdown",
   "metadata": {},
   "source": [
    "## Algoritmo Genético"
   ]
  },
  {
   "cell_type": "code",
   "execution_count": 5,
   "metadata": {},
   "outputs": [],
   "source": [
    "problem_dict = {\n",
    "    'obj_func': objective_function,\n",
    "    'data': data,\n",
    "    'mut_class': ResettingScramble(),\n",
    "    'cross_class': SegmentSimple(),\n",
    "    'init_pop': (route, thief_items)\n",
    "}"
   ]
  },
  {
   "cell_type": "code",
   "execution_count": 6,
   "metadata": {},
   "outputs": [
    {
     "ename": "KeyError",
     "evalue": "'281'",
     "output_type": "error",
     "traceback": [
      "\u001b[1;31m---------------------------------------------------------------------------\u001b[0m",
      "\u001b[1;31mKeyError\u001b[0m                                  Traceback (most recent call last)",
      "Cell \u001b[1;32mIn[6], line 2\u001b[0m\n\u001b[0;32m      1\u001b[0m optimizer \u001b[38;5;241m=\u001b[39m GA(epochs\u001b[38;5;241m=\u001b[39m \u001b[38;5;241m50\u001b[39m, pop_size\u001b[38;5;241m=\u001b[39m \u001b[38;5;241m100\u001b[39m, pc\u001b[38;5;241m=\u001b[39m \u001b[38;5;241m0.1\u001b[39m, pm\u001b[38;5;241m=\u001b[39m \u001b[38;5;241m0.01\u001b[39m)\n\u001b[1;32m----> 2\u001b[0m \u001b[43moptimizer\u001b[49m\u001b[38;5;241;43m.\u001b[39;49m\u001b[43msolve\u001b[49m\u001b[43m(\u001b[49m\u001b[43mproblem_dict\u001b[49m\u001b[43m)\u001b[49m\n",
      "File \u001b[1;32mc:\\Users\\matia\\Desktop\\Workspace\\Traveling_Thief_Problem\\TTP\\GA.py:148\u001b[0m, in \u001b[0;36mGA.solve\u001b[1;34m(self, problem_dict, verbose)\u001b[0m\n\u001b[0;32m    145\u001b[0m child_population \u001b[38;5;241m=\u001b[39m []\n\u001b[0;32m    147\u001b[0m \u001b[38;5;28;01mfor\u001b[39;00m _ \u001b[38;5;129;01min\u001b[39;00m \u001b[38;5;28mrange\u001b[39m(\u001b[38;5;28mself\u001b[39m\u001b[38;5;241m.\u001b[39mpop_size):\n\u001b[1;32m--> 148\u001b[0m     parent_1, parent_2 \u001b[38;5;241m=\u001b[39m \u001b[38;5;28;43mself\u001b[39;49m\u001b[38;5;241;43m.\u001b[39;49m\u001b[43mselect_parents\u001b[49m\u001b[43m(\u001b[49m\u001b[43mpop\u001b[49m\u001b[43m)\u001b[49m\n\u001b[0;32m    150\u001b[0m     offspring \u001b[38;5;241m=\u001b[39m \u001b[38;5;28mself\u001b[39m\u001b[38;5;241m.\u001b[39mcrossover\u001b[38;5;241m.\u001b[39mexecute(parent_1, parent_2, \u001b[38;5;28mself\u001b[39m\u001b[38;5;241m.\u001b[39mdata_ttp[\u001b[38;5;124m'\u001b[39m\u001b[38;5;124mItems\u001b[39m\u001b[38;5;124m'\u001b[39m], \u001b[38;5;28mself\u001b[39m\u001b[38;5;241m.\u001b[39mdata_ttp[\u001b[38;5;124m'\u001b[39m\u001b[38;5;124mThief\u001b[39m\u001b[38;5;124m'\u001b[39m][\u001b[38;5;124m'\u001b[39m\u001b[38;5;124mmax_capacity\u001b[39m\u001b[38;5;124m'\u001b[39m])\n\u001b[0;32m    151\u001b[0m     \u001b[38;5;28;01mif\u001b[39;00m random\u001b[38;5;241m.\u001b[39mrandom() \u001b[38;5;241m<\u001b[39m\u001b[38;5;241m=\u001b[39m \u001b[38;5;28mself\u001b[39m\u001b[38;5;241m.\u001b[39mpm:\n",
      "File \u001b[1;32mc:\\Users\\matia\\Desktop\\Workspace\\Traveling_Thief_Problem\\TTP\\GA.py:111\u001b[0m, in \u001b[0;36mGA.select_parents\u001b[1;34m(self, pop)\u001b[0m\n\u001b[0;32m    110\u001b[0m \u001b[38;5;28;01mdef\u001b[39;00m \u001b[38;5;21mselect_parents\u001b[39m(\u001b[38;5;28mself\u001b[39m, pop: np\u001b[38;5;241m.\u001b[39mndarray):\n\u001b[1;32m--> 111\u001b[0m     population_sorted \u001b[38;5;241m=\u001b[39m \u001b[38;5;28;43msorted\u001b[39;49m\u001b[43m(\u001b[49m\u001b[43mpop\u001b[49m\u001b[43m,\u001b[49m\u001b[43m \u001b[49m\u001b[43mkey\u001b[49m\u001b[38;5;241;43m=\u001b[39;49m\u001b[38;5;28;43;01mlambda\u001b[39;49;00m\u001b[43m \u001b[49m\u001b[43mind\u001b[49m\u001b[43m:\u001b[49m\u001b[43m \u001b[49m\u001b[38;5;28;43mself\u001b[39;49m\u001b[38;5;241;43m.\u001b[39;49m\u001b[43mfitness\u001b[49m\u001b[43m(\u001b[49m\u001b[38;5;28;43mself\u001b[39;49m\u001b[38;5;241;43m.\u001b[39;49m\u001b[43mdata_ttp\u001b[49m\u001b[43m,\u001b[49m\u001b[43m \u001b[49m\u001b[43mind\u001b[49m\u001b[43m)\u001b[49m\u001b[43m,\u001b[49m\u001b[43m \u001b[49m\u001b[43mreverse\u001b[49m\u001b[38;5;241;43m=\u001b[39;49m\u001b[38;5;28;43;01mTrue\u001b[39;49;00m\u001b[43m)\u001b[49m\n\u001b[0;32m    112\u001b[0m     truncation_index \u001b[38;5;241m=\u001b[39m \u001b[38;5;28mint\u001b[39m(\u001b[38;5;28mself\u001b[39m\u001b[38;5;241m.\u001b[39mpc \u001b[38;5;241m*\u001b[39m \u001b[38;5;28mlen\u001b[39m(pop))\n\u001b[0;32m    113\u001b[0m     truncated_population \u001b[38;5;241m=\u001b[39m population_sorted[:truncation_index]\n",
      "File \u001b[1;32mc:\\Users\\matia\\Desktop\\Workspace\\Traveling_Thief_Problem\\TTP\\GA.py:111\u001b[0m, in \u001b[0;36mGA.select_parents.<locals>.<lambda>\u001b[1;34m(ind)\u001b[0m\n\u001b[0;32m    110\u001b[0m \u001b[38;5;28;01mdef\u001b[39;00m \u001b[38;5;21mselect_parents\u001b[39m(\u001b[38;5;28mself\u001b[39m, pop: np\u001b[38;5;241m.\u001b[39mndarray):\n\u001b[1;32m--> 111\u001b[0m     population_sorted \u001b[38;5;241m=\u001b[39m \u001b[38;5;28msorted\u001b[39m(pop, key\u001b[38;5;241m=\u001b[39m\u001b[38;5;28;01mlambda\u001b[39;00m ind: \u001b[38;5;28;43mself\u001b[39;49m\u001b[38;5;241;43m.\u001b[39;49m\u001b[43mfitness\u001b[49m\u001b[43m(\u001b[49m\u001b[38;5;28;43mself\u001b[39;49m\u001b[38;5;241;43m.\u001b[39;49m\u001b[43mdata_ttp\u001b[49m\u001b[43m,\u001b[49m\u001b[43m \u001b[49m\u001b[43mind\u001b[49m\u001b[43m)\u001b[49m, reverse\u001b[38;5;241m=\u001b[39m\u001b[38;5;28;01mTrue\u001b[39;00m)\n\u001b[0;32m    112\u001b[0m     truncation_index \u001b[38;5;241m=\u001b[39m \u001b[38;5;28mint\u001b[39m(\u001b[38;5;28mself\u001b[39m\u001b[38;5;241m.\u001b[39mpc \u001b[38;5;241m*\u001b[39m \u001b[38;5;28mlen\u001b[39m(pop))\n\u001b[0;32m    113\u001b[0m     truncated_population \u001b[38;5;241m=\u001b[39m population_sorted[:truncation_index]\n",
      "File \u001b[1;32mc:\\Users\\matia\\Desktop\\Workspace\\Traveling_Thief_Problem\\TTP\\objective_function.py:28\u001b[0m, in \u001b[0;36mobjective_function\u001b[1;34m(data, sol, verbose)\u001b[0m\n\u001b[0;32m     24\u001b[0m house, next_house \u001b[38;5;241m=\u001b[39m \u001b[38;5;28mstr\u001b[39m(tsp_sol[i]), \u001b[38;5;28mstr\u001b[39m(tsp_sol[i \u001b[38;5;241m+\u001b[39m \u001b[38;5;241m1\u001b[39m])\n\u001b[0;32m     26\u001b[0m steal_items(\u001b[38;5;28mint\u001b[39m(house), thief, items, knapsack_sol)\n\u001b[1;32m---> 28\u001b[0m pos_1 \u001b[38;5;241m=\u001b[39m \u001b[43mhouses\u001b[49m\u001b[43m[\u001b[49m\u001b[43mhouse\u001b[49m\u001b[43m]\u001b[49m\u001b[38;5;241m.\u001b[39mget_pos()\n\u001b[0;32m     29\u001b[0m pos_2 \u001b[38;5;241m=\u001b[39m houses[next_house]\u001b[38;5;241m.\u001b[39mget_pos()\n\u001b[0;32m     31\u001b[0m distance \u001b[38;5;241m=\u001b[39m mt\u001b[38;5;241m.\u001b[39msqrt((pos_1[\u001b[38;5;124m'\u001b[39m\u001b[38;5;124mx\u001b[39m\u001b[38;5;124m'\u001b[39m] \u001b[38;5;241m-\u001b[39m pos_2[\u001b[38;5;124m'\u001b[39m\u001b[38;5;124mx\u001b[39m\u001b[38;5;124m'\u001b[39m]) \u001b[38;5;241m*\u001b[39m\u001b[38;5;241m*\u001b[39m \u001b[38;5;241m2\u001b[39m \u001b[38;5;241m+\u001b[39m (pos_1[\u001b[38;5;124m'\u001b[39m\u001b[38;5;124my\u001b[39m\u001b[38;5;124m'\u001b[39m] \u001b[38;5;241m-\u001b[39m pos_2[\u001b[38;5;124m'\u001b[39m\u001b[38;5;124my\u001b[39m\u001b[38;5;124m'\u001b[39m]) \u001b[38;5;241m*\u001b[39m\u001b[38;5;241m*\u001b[39m \u001b[38;5;241m2\u001b[39m)\n",
      "\u001b[1;31mKeyError\u001b[0m: '281'"
     ]
    }
   ],
   "source": [
    "optimizer = GA(epochs= 50, pop_size= 100, pc= 0.1, pm= 0.01)\n",
    "optimizer.solve(problem_dict)"
   ]
  }
 ],
 "metadata": {
  "kernelspec": {
   "display_name": ".venv",
   "language": "python",
   "name": "python3"
  },
  "language_info": {
   "codemirror_mode": {
    "name": "ipython",
    "version": 3
   },
   "file_extension": ".py",
   "mimetype": "text/x-python",
   "name": "python",
   "nbconvert_exporter": "python",
   "pygments_lexer": "ipython3",
   "version": "3.11.8"
  }
 },
 "nbformat": 4,
 "nbformat_minor": 2
}
