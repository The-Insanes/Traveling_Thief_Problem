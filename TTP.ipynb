{
 "cells": [
  {
   "cell_type": "markdown",
   "metadata": {},
   "source": [
    "# Integrantes\n",
    "\n",
    "* Fabrizzio Mura\n",
    "* Joaquin Tapia\n",
    "* Matías Bugueño"
   ]
  },
  {
   "cell_type": "markdown",
   "metadata": {},
   "source": [
    "## Librerias necesarias"
   ]
  },
  {
   "cell_type": "code",
   "execution_count": 1,
   "metadata": {},
   "outputs": [],
   "source": [
    "from read_file import read_file\n",
    "from TTP import GA, objective_function\n",
    "from TTP.crossovers import SegmentSimple, PMXSimple\n",
    "from TTP.mutations import ResettingScramble, ResettingSwamp\n",
    "from TTP.Greedy import greedy_ttp\n",
    "from TTP.utils import Item\n",
    "from read_file import read_file\n",
    "from copy import deepcopy\n",
    "import numpy as np"
   ]
  },
  {
   "cell_type": "markdown",
   "metadata": {},
   "source": [
    "## Funciones Necesarias"
   ]
  },
  {
   "cell_type": "code",
   "execution_count": 2,
   "metadata": {},
   "outputs": [],
   "source": [
    "def get_GA_items(thief_items: list, items: list[Item]) -> np.ndarray:\n",
    "    items_size = len(items)\n",
    "    thief_items_size = len(thief_items)\n",
    "    GA_items = np.zeros((items_size), dtype= int)\n",
    "\n",
    "    for i in range(items_size):\n",
    "        for j in range(thief_items_size):\n",
    "            if items[i].get_house_id() == thief_items[j]:\n",
    "                GA_items[i] = 1\n",
    "\n",
    "    return GA_items"
   ]
  },
  {
   "cell_type": "markdown",
   "metadata": {},
   "source": [
    "## Preparación de data"
   ]
  },
  {
   "cell_type": "markdown",
   "metadata": {},
   "source": [
    "Con la ayuda de la función **read_file()** leemos los datos del problema y este nos retornará el nombre del mismo, la instancia de una clase ladrón la cuál será la encargada de manipular su mochila, los objetos robados y la disminución de velocidad por cada objeto robado, se recibirá una lista de intancias de la clase House que almacenan la posición de una casa y los objetos robados, también se recibe una lista de instancias de la clase Item que contiene el precio y el peso de cada item y por último se recibe el ratio utilizado para la función objetivo.\n",
    "\n",
    "Por último se prepara un diccionario data que será utilizado para el algoritmo génetico que será presentado más adelante."
   ]
  },
  {
   "cell_type": "code",
   "execution_count": 3,
   "metadata": {},
   "outputs": [],
   "source": [
    "name, thief , cities , items, ratio = read_file(\"./data/a280-ttp/a280_n279_uncorr_02.ttp\")\n",
    "\n",
    "data = {'Houses': cities,\n",
    "        'Items': items,\n",
    "        'Thief': {\n",
    "            'v_max': thief.get_v_max(),\n",
    "            'v_min': thief.get_v_min(),\n",
    "            'max_capacity': thief.get_max_weight()\n",
    "        },\n",
    "        'Ratio': ratio}"
   ]
  },
  {
   "cell_type": "markdown",
   "metadata": {},
   "source": [
    "## Algoritmo Greedy"
   ]
  },
  {
   "cell_type": "markdown",
   "metadata": {},
   "source": [
    "El algoritmo greedy o algoritmo voraz esta encargado de generar una solución rápida para ser de apoyo al algoritmo genético, este resuelve con programación dinámica el problema del TSP (Traveling Selsman Problem) y a través de un algoritmo greedy el problema knapsack buscando los objetos con mayor proporción $\\displaystyle \\frac{precio}{peso}$, y luego el resultado de este algoritmo es procesado por la función objetivo la cuál se calcula de la siguiente manera.\n",
    "\n",
    "$\\text{Función Objetivo} = \\displaystyle \\sum^{m}_{i = 1} p_i - ratio * \\sum^{n - 1}_{i = 1} (t_{x_{i},x_{i + 1}}) + t_{x_{n}, x_{1}}$\n",
    "\n",
    "donde:\n",
    "\n",
    "$p_{i}: \\text{precio del objeto actual}$\n",
    "\n",
    "$x_{i}: \\text{nodo actual}$\n",
    "\n",
    "$\\displaystyle t_{x_{i}, x_{j}} = \\frac{d_{x_{i},x_{j}}}{\\text{velocidad actual}}$"
   ]
  },
  {
   "cell_type": "code",
   "execution_count": 4,
   "metadata": {},
   "outputs": [
    {
     "name": "stdout",
     "output_type": "stream",
     "text": [
      "Tiempo de ejecución: 0.153[s]\n",
      "Tiempo ladrón: 3948.711[s]\n",
      "Dinero: $32847\n",
      "Función objetivo: 2205.001\n",
      "Ruta del ladron: [1, 280, 2, 3, 279, 278, 4, 277, 276, 275, 274, 273, 272, 271, 16, 17, 18, 19, 20, 21, 128, 127, 126, 125, 30, 31, 32, 29, 28, 27, 26, 22, 25, 23, 24, 14, 13, 12, 11, 10, 8, 7, 9, 6, 5, 260, 259, 258, 257, 254, 253, 208, 207, 210, 209, 252, 255, 256, 249, 248, 247, 244, 241, 240, 239, 238, 231, 232, 233, 234, 235, 236, 237, 246, 245, 250, 251, 230, 229, 228, 227, 226, 225, 224, 223, 222, 219, 218, 215, 214, 211, 212, 213, 216, 217, 220, 221, 203, 202, 200, 144, 143, 142, 141, 140, 139, 138, 137, 136, 135, 134, 270, 269, 268, 267, 266, 265, 264, 263, 262, 261, 15, 133, 132, 131, 130, 129, 154, 155, 153, 156, 152, 151, 177, 176, 181, 180, 179, 178, 150, 149, 148, 147, 146, 145, 199, 198, 197, 194, 195, 196, 201, 193, 192, 191, 190, 189, 188, 187, 185, 184, 183, 182, 161, 162, 163, 164, 165, 166, 167, 168, 169, 101, 100, 99, 98, 93, 94, 95, 96, 97, 92, 91, 90, 89, 109, 108, 104, 103, 102, 170, 171, 172, 173, 106, 105, 107, 174, 175, 160, 159, 158, 157, 119, 120, 121, 122, 123, 124, 34, 33, 36, 35, 38, 37, 39, 40, 41, 42, 43, 60, 61, 118, 117, 115, 114, 111, 110, 112, 88, 83, 82, 81, 80, 79, 76, 75, 74, 73, 72, 71, 70, 67, 66, 65, 64, 63, 62, 116, 86, 85, 84, 87, 113, 59, 44, 45, 46, 47, 48, 49, 50, 51, 52, 53, 54, 55, 56, 57, 58, 68, 69, 77, 78, 186, 204, 205, 206, 243, 242]\n"
     ]
    }
   ],
   "source": [
    "route, thief_items, total_time, profit, execution_time = greedy_ttp(deepcopy(thief), cities)\n",
    "thief_items = [item.get_house_id() for item in thief_items]\n",
    "thief_items = get_GA_items(thief_items, items)\n",
    "sol = (route, thief_items)\n",
    "\n",
    "tarjet = objective_function(data, sol)\n",
    "\n",
    "print(f\"Tiempo de ejecución: {round(execution_time, 3)}[s]\")\n",
    "print(f\"Tiempo ladrón: {round(total_time, 3)}[s]\")\n",
    "print(f\"Dinero: ${profit}\")\n",
    "print(f\"Función objetivo: {round(tarjet, 3)}\")\n",
    "print(f'Ruta del ladron: {route}')"
   ]
  },
  {
   "cell_type": "markdown",
   "metadata": {},
   "source": [
    "## Algoritmo Genético"
   ]
  },
  {
   "cell_type": "markdown",
   "metadata": {},
   "source": [
    "Los algoritmos genéticos son algoritmos de optimización basados en los principios de la genética, en particular los de selección natural. Estos intentan de imitar la evolución de una espicie durante distintas generaciones tomando en cuenta los conceptos de cruzamiento, mutación y selección de padres para las siguientes épocas.\n",
    "\n",
    "<img src='./images/GA_example.png' style='width: 600px'></img>"
   ]
  },
  {
   "cell_type": "markdown",
   "metadata": {},
   "source": [
    "### Pseudo Código"
   ]
  },
  {
   "cell_type": "markdown",
   "metadata": {},
   "source": [
    "<img src='./images/Pseudocodigo_GA.png' width= 600px></img>"
   ]
  },
  {
   "cell_type": "markdown",
   "metadata": {},
   "source": [
    "### En nuestro caso"
   ]
  },
  {
   "cell_type": "markdown",
   "metadata": {},
   "source": [
    "Nosotros hemos decidido implementar este algoritmo basandonos en el pseudocódigo anterior, utilizando programación orientada a objetos y el patrón de diseño Strategy para la creación nuevas estrategias de mutación y de cruzamiento y dejar un código mucho más ordenado.\n",
    "\n",
    "En la selección de individuos hemos preferido hacer uso de una elección elitista, y las mutaciones como los cruzamientos serán explicados en la siguiente sección."
   ]
  },
  {
   "cell_type": "markdown",
   "metadata": {},
   "source": [
    "### Mutación"
   ]
  },
  {
   "cell_type": "markdown",
   "metadata": {},
   "source": [
    "Se utiliza el archivo Mutation_Base.py como interface para poder utilizar el resto de mutaciones:\n",
    "\n",
    "```py\n",
    "from abc import abstractmethod\n",
    "from abc import ABCMeta\n",
    "from numpy import ndarray\n",
    "\n",
    "class Mutation_Base(metaclass = ABCMeta):\n",
    "    @abstractmethod\n",
    "    def execute_knapsack(self, sol: ndarray, item_list: list, max_capacity: int) -> ndarray:\n",
    "        pass\n",
    "\n",
    "    @abstractmethod\n",
    "    def execute_tsp(self, sol: ndarray) -> ndarray:\n",
    "        pass\n",
    "\n",
    "    @abstractmethod\n",
    "    def execute(self, child: tuple, item_list: list, max_capacity: int) -> tuple:\n",
    "        pass\n",
    "```"
   ]
  },
  {
   "cell_type": "markdown",
   "metadata": {},
   "source": [
    "Poseemos mutaciones tanto para los problemas TSP como para Knapsack individualmente.\n",
    "1) Resetting (Knapsack)\n",
    "2) Scramble (TSP)\n",
    "3) Swamp (TSP)\n"
   ]
  },
  {
   "cell_type": "markdown",
   "metadata": {},
   "source": [
    "1) Resetting ( just for Knapsack ):\n",
    "\t````py\n",
    "\texecute_knapsack(self, sol: list, item_list: list = None, max_capacity: int = 0) -> list:\n",
    "\t\tsol_size = len(sol)\n",
    "\t\tindexes = random.sample(range(sol_size), int(sol_size * 0.2))\n",
    "\n",
    "\t\tfor index in indexes:\n",
    "\t\t\tif sol[index] == 1:\n",
    "\t\t\t\t\tsol[index] = 0\n",
    "\t\t\telse:\n",
    "\t\t\t\titem_weight = item_list[index].get_weight()\n",
    "\t\t\t\ttotal_weight = sum(item_list[j].get_weight() for j in range(len(sol)) if sol[j] == 1)\n",
    "\t\t\t\tif total_weight + item_weight <= max_capacity:\n",
    "\t\t\t\t\tsol[index] = 1\n",
    "\t\t\treturn sol\n",
    "\t````\n",
    "\n",
    "\tRealizamos para una solución al problema knapsack [0, 1, 0, 1, 0, 1, 1, 0, 0, 0, 1, 0, ...] una mutación que genera una lista de tamaño int(sol_size * 0.2) que corresponde al 20% de los objetos del arreglo.\n",
    "\n",
    "\tEsta contiene los index de los objetos que serán luego modificados de manera binaria.\n",
    "\n",
    "\t<img src='https://encrypted-tbn0.gstatic.com/images?q=tbn:ANd9GcRrfO6vZr3scj60HZTa8UKi8tPnVXximDOydg&s'></img>\n",
    "\t\n",
    "\t<pre style='font-size: smaller; color: yellow;'>\n",
    "\n",
    "\t\tif En caso de ser '1' el valor del objeto en el i-ésimo:\n",
    "\t\t\t-> El valor pasa a ser '0' (por lo que se elimina el ítem de la solución).\n",
    "\t\telse:\n",
    "\t\t\t-> Obtenemos el peso del item que intentaremos robar.\n",
    "\t\t\t-> Se calcula el peso de la mochila considerando el nuevo objeto ingresado.\n",
    "\t\t\t\n",
    "\t\t\tif El peso (considerando el objeto) no sobrepasa el de la mochila:\n",
    "\t\t\t\t-> el valor pasa a ser '1' (considerando como añadido el objeto).\n",
    "\n",
    "\t</pre>"
   ]
  },
  {
   "cell_type": "markdown",
   "metadata": {},
   "source": [
    "2) Resetting Scramble( TSP-Mutation based on random reordering ):\n",
    "\t````py\n",
    "\texecute_tsp(self, sol: list) -> list:\n",
    "\t\ti, j = sorted(random.sample(range(len(sol)), 2))\n",
    "\t\tsegmento = sol[i:j+1]\n",
    "\t\trandom.shuffle(segmento)\n",
    "\t\tsol[i:j+1] = segmento\n",
    "\t\t\n",
    "\t\treturn sol\n",
    "\t````\n",
    "\n",
    "\tRecibirá la solución al problema TSP correspondiente a una lista de n numeros ALL_DIFFERENT entre ellos, elementos que simulan la ruta seguida por el Thief.\n",
    "\tSe seleccionará en la primera linea dos valores un indice de inicio 'i' y un indice de termino 'j' para realizar la mutacion dentro de estos dos indices.\n",
    "\n",
    "\t<img src='https://www.researchgate.net/publication/329265512/figure/fig11/AS:941473017118758@1601476067356/Scramble-mutation-for-scheduling-the-jobs.png'></img>\n",
    "\n",
    "\t<pre style='font-size: smaller; color: yellow;'>\n",
    "\t-> Se generan dos indices aleatorios ALL_DIFFERENT. \n",
    "\t-> Se genera un segmento de tamaño j+1-i o lo qe es igual, un segmento comprendido entre estos dos indices.\n",
    "\t-> Se hace un shuffle en los elementos del segmento para reordenarlos de manera aleatoria.\n",
    "\t-> Se añade finalmente el segmento a la solucion inicial.\n",
    "\tSe retorna la solución modificada\n",
    "\t</pre>"
   ]
  },
  {
   "cell_type": "markdown",
   "metadata": {},
   "source": [
    "3) Resetting Swamp( TSP Mutation based on two-index swap):\n",
    "\t````py\n",
    "\texecute_tsp(self, sol: ndarray) -> ndarray:\n",
    "\t\ti, j = random.sample(range(len(sol)), 2)\n",
    "\t\tsol[i], sol[j] = sol[j], sol[i]\n",
    "\n",
    "\t\treturn sol\n",
    "\t````\n",
    "\t<img src ='https://media.discordapp.net/attachments/1106395361867731026/1249602869045493761/image.png?ex=6667e6dc&is=6666955c&hm=5ca503e85f123b2b47d32ac909811fcfc5ce5c2ac26cb44fb26a180a52f66d26&=&format=webp&quality=lossless'></img>\n",
    "\n",
    "\tAunque de manera similar a Scramble, se seleccionan dos indices par realizar un cambio, pero solamente entre estos dos elementos, cambiando solo dos 'ciudades' de la ruta.\n",
    "\t<pre style='font-size: smaller; color: yellow;'>\n",
    "\t-> Se generan dos elementos ALL_DIFFERENT aleatorios dentro del rango de ciudades posibles.\n",
    "\t-> Se intercambian los valores de estos dos elementos.\n",
    "\tSe retorna la solución.\n",
    "\t</pre>"
   ]
  },
  {
   "cell_type": "markdown",
   "metadata": {},
   "source": [
    "<h3> Crossover </h3>"
   ]
  },
  {
   "cell_type": "markdown",
   "metadata": {},
   "source": [
    "<h4> PMX (Partially Mapped Crossover) </h4>"
   ]
  },
  {
   "cell_type": "markdown",
   "metadata": {},
   "source": [
    "El PMX se basa en la idea de intercambiar segmentos entre dos soluciones parentales (o cromosomas), garantizando que las ciudades en la ruta del TSP no se repitan y que cada ciudad sea visitada exactamente una vez.\n",
    "\n",
    "El proceso para realizar este crossover consiste los siguientes pasos:\n",
    "\n",
    "<img src= 'https://www.researchgate.net/publication/354532445/figure/fig4/AS:1070818071150594@1632314331440/Partially-mapped-crossover-PMX-operator.png'></img>"
   ]
  },
  {
   "cell_type": "markdown",
   "metadata": {},
   "source": [
    "### Cruce de Segmentos Simple"
   ]
  },
  {
   "cell_type": "markdown",
   "metadata": {},
   "source": [
    "Al igual que PMX también se seleccionan dos puntos de cruce, pero en este caso, los segmentos se intercambian directamente sin mapear los genes restantes.\n",
    "\n",
    "Esto puede resultar en hijos con genes duplicados o faltantes, lo que no es válido en problemas de permutación como el TSP.\n",
    "\n",
    "<img src= 'https://miro.medium.com/v2/resize:fit:1400/1*YhmzBBCyAG3rtEBbI0gz4w.jpeg'></img>"
   ]
  },
  {
   "cell_type": "markdown",
   "metadata": {},
   "source": [
    "### Testing"
   ]
  },
  {
   "cell_type": "markdown",
   "metadata": {},
   "source": [
    "Primero preparamos un diccionario del problema a resolver para que el algoritmo genético sepa los parametros a utilizar."
   ]
  },
  {
   "cell_type": "code",
   "execution_count": 5,
   "metadata": {},
   "outputs": [],
   "source": [
    "if 1 in route: route.remove(1)\n",
    "\n",
    "problem_dict = {\n",
    "    'obj_func': objective_function,\n",
    "    'data': data,\n",
    "    'mut_class': ResettingSwamp(),\n",
    "    'cross_class': PMXSimple(),\n",
    "    'init_pop': (deepcopy(route), deepcopy(thief_items))\n",
    "}"
   ]
  },
  {
   "cell_type": "code",
   "execution_count": 6,
   "metadata": {},
   "outputs": [],
   "source": [
    "optimizer = GA(epochs= 60, pop_size= 60, pc= 0.2, pm= 0.85, pb= 0.6)"
   ]
  },
  {
   "cell_type": "code",
   "execution_count": 7,
   "metadata": {},
   "outputs": [
    {
     "name": "stdout",
     "output_type": "stream",
     "text": [
      "Epoch 1: Global best: 2538.207 | Current best: 2538.207 | Execution_time: 28.397[s]\n",
      "Epoch 2: Global best: 2538.207 | Current best: 2538.207 | Execution_time: 17.75[s]\n",
      "Epoch 3: Global best: 2876.432 | Current best: 2876.432 | Execution_time: 17.097[s]\n",
      "Epoch 4: Global best: 3096.972 | Current best: 3096.972 | Execution_time: 17.458[s]\n",
      "Epoch 5: Global best: 3096.972 | Current best: 2925.733 | Execution_time: 16.986[s]\n",
      "Epoch 6: Global best: 3344.923 | Current best: 3344.923 | Execution_time: 17.005[s]\n",
      "Epoch 7: Global best: 3756.165 | Current best: 3756.165 | Execution_time: 16.63[s]\n",
      "Epoch 8: Global best: 3756.165 | Current best: 3756.165 | Execution_time: 17.524[s]\n",
      "Epoch 9: Global best: 3756.165 | Current best: 3756.165 | Execution_time: 17.078[s]\n",
      "Epoch 10: Global best: 3756.165 | Current best: 3756.165 | Execution_time: 16.821[s]\n",
      "Epoch 11: Global best: 3756.165 | Current best: 3756.165 | Execution_time: 16.91[s]\n",
      "Epoch 12: Global best: 3756.165 | Current best: 3756.165 | Execution_time: 16.853[s]\n",
      "Epoch 13: Global best: 3756.165 | Current best: 3756.165 | Execution_time: 16.757[s]\n",
      "Epoch 14: Global best: 3756.165 | Current best: 3756.165 | Execution_time: 16.87[s]\n",
      "Epoch 15: Global best: 3756.165 | Current best: 3756.165 | Execution_time: 16.805[s]\n",
      "Epoch 16: Global best: 3756.165 | Current best: 3756.165 | Execution_time: 17.613[s]\n",
      "Epoch 17: Global best: 3756.165 | Current best: 3756.165 | Execution_time: 17.333[s]\n",
      "Epoch 18: Global best: 3756.165 | Current best: 3756.165 | Execution_time: 17.103[s]\n",
      "Epoch 19: Global best: 3756.165 | Current best: 3756.165 | Execution_time: 17.007[s]\n",
      "Epoch 20: Global best: 3756.165 | Current best: 3756.165 | Execution_time: 16.962[s]\n",
      "Epoch 21: Global best: 3756.165 | Current best: 3756.165 | Execution_time: 19.401[s]\n",
      "Epoch 22: Global best: 3981.671 | Current best: 3981.671 | Execution_time: 17.384[s]\n",
      "Epoch 23: Global best: 3981.671 | Current best: 3981.671 | Execution_time: 18.209[s]\n",
      "Epoch 24: Global best: 3981.671 | Current best: 3981.671 | Execution_time: 17.597[s]\n",
      "Epoch 25: Global best: 3981.671 | Current best: 3756.165 | Execution_time: 16.875[s]\n",
      "Epoch 26: Global best: 3981.671 | Current best: 3756.165 | Execution_time: 17.586[s]\n",
      "Epoch 27: Global best: 3981.671 | Current best: 3756.165 | Execution_time: 17.492[s]\n",
      "Epoch 28: Global best: 3981.671 | Current best: 3756.165 | Execution_time: 18.448[s]\n",
      "Epoch 29: Global best: 3981.671 | Current best: 3756.165 | Execution_time: 17.832[s]\n",
      "Epoch 30: Global best: 3981.671 | Current best: 3756.165 | Execution_time: 17.961[s]\n",
      "Epoch 31: Global best: 3981.671 | Current best: 3756.165 | Execution_time: 17.938[s]\n",
      "Epoch 32: Global best: 3981.671 | Current best: 3941.985 | Execution_time: 17.159[s]\n",
      "Epoch 33: Global best: 3981.671 | Current best: 3941.985 | Execution_time: 17.592[s]\n",
      "Epoch 34: Global best: 3981.671 | Current best: 3941.985 | Execution_time: 17.492[s]\n",
      "Epoch 35: Global best: 3981.671 | Current best: 3941.985 | Execution_time: 18.878[s]\n",
      "Epoch 36: Global best: 3981.671 | Current best: 3941.985 | Execution_time: 20.311[s]\n",
      "Epoch 37: Global best: 3981.671 | Current best: 3941.985 | Execution_time: 19.169[s]\n",
      "Epoch 38: Global best: 3981.671 | Current best: 3941.985 | Execution_time: 19.436[s]\n",
      "Epoch 39: Global best: 3981.671 | Current best: 3941.985 | Execution_time: 19.643[s]\n",
      "Epoch 40: Global best: 3981.671 | Current best: 3941.985 | Execution_time: 19.524[s]\n",
      "Epoch 41: Global best: 3981.671 | Current best: 3941.985 | Execution_time: 20.041[s]\n",
      "Epoch 42: Global best: 3981.671 | Current best: 3941.985 | Execution_time: 18.954[s]\n",
      "Epoch 43: Global best: 3981.671 | Current best: 3941.985 | Execution_time: 20.491[s]\n",
      "Epoch 44: Global best: 3981.671 | Current best: 3941.985 | Execution_time: 17.241[s]\n",
      "Epoch 45: Global best: 3981.671 | Current best: 3941.985 | Execution_time: 19.428[s]\n",
      "Epoch 46: Global best: 3981.671 | Current best: 3941.985 | Execution_time: 16.499[s]\n",
      "Epoch 47: Global best: 3981.671 | Current best: 3941.985 | Execution_time: 16.12[s]\n",
      "Epoch 48: Global best: 3981.671 | Current best: 3941.985 | Execution_time: 16.08[s]\n",
      "Epoch 49: Global best: 3981.671 | Current best: 3941.985 | Execution_time: 16.719[s]\n",
      "Epoch 50: Global best: 3981.671 | Current best: 3941.985 | Execution_time: 18.454[s]\n",
      "Epoch 51: Global best: 3981.671 | Current best: 3941.985 | Execution_time: 19.767[s]\n",
      "Epoch 52: Global best: 3981.671 | Current best: 3941.985 | Execution_time: 20.402[s]\n",
      "Epoch 53: Global best: 3981.671 | Current best: 3941.985 | Execution_time: 18.633[s]\n",
      "Epoch 54: Global best: 4070.722 | Current best: 4070.722 | Execution_time: 18.051[s]\n",
      "Epoch 55: Global best: 4070.722 | Current best: 4070.722 | Execution_time: 17.154[s]\n",
      "Epoch 56: Global best: 4070.722 | Current best: 4070.722 | Execution_time: 17.6[s]\n",
      "Epoch 57: Global best: 4070.722 | Current best: 4070.722 | Execution_time: 17.34[s]\n",
      "Epoch 58: Global best: 4070.722 | Current best: 4070.722 | Execution_time: 18.027[s]\n",
      "Epoch 59: Global best: 4434.188 | Current best: 4434.188 | Execution_time: 17.114[s]\n",
      "Epoch 60: Global best: 4632.738 | Current best: 4632.738 | Execution_time: 17.019[s]\n",
      "Global best: 4632.738  |  Current best: 4632.738  |  Execution_time: 18.0:0.041162729263305664\n"
     ]
    }
   ],
   "source": [
    "best = optimizer.solve(problem_dict)"
   ]
  },
  {
   "cell_type": "markdown",
   "metadata": {},
   "source": [
    "Para mejorar las soluciones, se le agregó la función para la selección de población para las nuevas épocas, juntando los cromosomas de la generación anterior con la nueva, luego ordenando las soluciones con ayuda de la función objetivo y quedandonos con las mejores n cromosomas, además se aumentó la cantidad de items randomizados a cambiar en la mutación."
   ]
  },
  {
   "cell_type": "code",
   "execution_count": 7,
   "metadata": {},
   "outputs": [
    {
     "name": "stdout",
     "output_type": "stream",
     "text": [
      "Epoch 1: Global best: 2621.304 | Current best: 2621.304 | Execution_time: 45.06[s]\n",
      "Epoch 2: Global best: 2621.304 | Current best: 2621.304 | Execution_time: 36.952[s]\n",
      "Epoch 3: Global best: 2695.688 | Current best: 2695.688 | Execution_time: 34.969[s]\n",
      "Epoch 4: Global best: 2695.688 | Current best: 2695.688 | Execution_time: 35.53[s]\n",
      "Epoch 5: Global best: 3046.699 | Current best: 3046.699 | Execution_time: 31.242[s]\n",
      "Epoch 6: Global best: 3046.699 | Current best: 3046.699 | Execution_time: 31.336[s]\n",
      "Epoch 7: Global best: 3283.758 | Current best: 3283.758 | Execution_time: 30.327[s]\n",
      "Epoch 8: Global best: 3397.255 | Current best: 3397.255 | Execution_time: 29.481[s]\n",
      "Epoch 9: Global best: 3450.316 | Current best: 3450.316 | Execution_time: 29.421[s]\n",
      "Epoch 10: Global best: 3972.727 | Current best: 3972.727 | Execution_time: 28.826[s]\n",
      "Epoch 11: Global best: 3972.727 | Current best: 3972.727 | Execution_time: 29.65[s]\n",
      "Epoch 12: Global best: 3972.727 | Current best: 3972.727 | Execution_time: 29.511[s]\n",
      "Epoch 13: Global best: 3972.727 | Current best: 3972.727 | Execution_time: 30.572[s]\n",
      "Epoch 14: Global best: 3972.727 | Current best: 3972.727 | Execution_time: 28.897[s]\n",
      "Epoch 15: Global best: 3972.727 | Current best: 3972.727 | Execution_time: 28.902[s]\n",
      "Epoch 16: Global best: 3972.727 | Current best: 3972.727 | Execution_time: 28.647[s]\n",
      "Epoch 17: Global best: 3988.336 | Current best: 3988.336 | Execution_time: 28.126[s]\n",
      "Epoch 18: Global best: 3988.336 | Current best: 3988.336 | Execution_time: 28.926[s]\n",
      "Epoch 19: Global best: 3988.336 | Current best: 3988.336 | Execution_time: 28.822[s]\n",
      "Epoch 20: Global best: 4377.922 | Current best: 4377.922 | Execution_time: 28.214[s]\n",
      "Epoch 21: Global best: 4377.922 | Current best: 4377.922 | Execution_time: 28.996[s]\n",
      "Epoch 22: Global best: 4377.922 | Current best: 4377.922 | Execution_time: 28.885[s]\n",
      "Epoch 23: Global best: 4377.922 | Current best: 4377.922 | Execution_time: 28.656[s]\n",
      "Epoch 24: Global best: 4749.059 | Current best: 4749.059 | Execution_time: 28.315[s]\n",
      "Epoch 25: Global best: 4749.059 | Current best: 4749.059 | Execution_time: 29.289[s]\n",
      "Epoch 26: Global best: 4749.059 | Current best: 4749.059 | Execution_time: 29.873[s]\n",
      "Epoch 27: Global best: 4749.059 | Current best: 4749.059 | Execution_time: 29.708[s]\n",
      "Epoch 28: Global best: 4749.059 | Current best: 4749.059 | Execution_time: 29.749[s]\n",
      "Epoch 29: Global best: 4749.059 | Current best: 4749.059 | Execution_time: 29.792[s]\n",
      "Epoch 30: Global best: 4749.059 | Current best: 4749.059 | Execution_time: 29.898[s]\n",
      "Epoch 31: Global best: 4749.059 | Current best: 4749.059 | Execution_time: 30.184[s]\n",
      "Epoch 32: Global best: 4749.059 | Current best: 4749.059 | Execution_time: 29.938[s]\n",
      "Epoch 33: Global best: 4752.329 | Current best: 4752.329 | Execution_time: 29.494[s]\n",
      "Epoch 34: Global best: 4860.605 | Current best: 4860.605 | Execution_time: 29.449[s]\n",
      "Epoch 35: Global best: 4860.605 | Current best: 4860.605 | Execution_time: 30.642[s]\n",
      "Epoch 36: Global best: 4860.605 | Current best: 4860.605 | Execution_time: 29.719[s]\n",
      "Epoch 37: Global best: 4860.605 | Current best: 4860.605 | Execution_time: 29.953[s]\n",
      "Epoch 38: Global best: 4860.605 | Current best: 4860.605 | Execution_time: 29.961[s]\n",
      "Epoch 39: Global best: 4860.605 | Current best: 4860.605 | Execution_time: 30.092[s]\n",
      "Epoch 40: Global best: 4860.605 | Current best: 4860.605 | Execution_time: 29.965[s]\n",
      "Epoch 41: Global best: 4860.605 | Current best: 4860.605 | Execution_time: 29.855[s]\n",
      "Epoch 42: Global best: 4860.605 | Current best: 4860.605 | Execution_time: 29.822[s]\n",
      "Epoch 43: Global best: 4860.605 | Current best: 4860.605 | Execution_time: 28.645[s]\n",
      "Epoch 44: Global best: 4860.605 | Current best: 4860.605 | Execution_time: 28.757[s]\n",
      "Epoch 45: Global best: 4860.605 | Current best: 4860.605 | Execution_time: 28.993[s]\n",
      "Epoch 46: Global best: 4860.605 | Current best: 4860.605 | Execution_time: 28.635[s]\n",
      "Epoch 47: Global best: 4860.605 | Current best: 4860.605 | Execution_time: 28.567[s]\n",
      "Epoch 48: Global best: 4860.605 | Current best: 4860.605 | Execution_time: 29.106[s]\n",
      "Epoch 49: Global best: 4860.605 | Current best: 4860.605 | Execution_time: 29.239[s]\n",
      "Epoch 50: Global best: 4860.605 | Current best: 4860.605 | Execution_time: 30.253[s]\n",
      "Epoch 51: Global best: 4860.605 | Current best: 4860.605 | Execution_time: 29.953[s]\n",
      "Epoch 52: Global best: 4885.819 | Current best: 4885.819 | Execution_time: 29.688[s]\n",
      "Epoch 53: Global best: 5455.71 | Current best: 5455.71 | Execution_time: 29.45[s]\n",
      "Epoch 54: Global best: 5455.71 | Current best: 5455.71 | Execution_time: 28.832[s]\n",
      "Epoch 55: Global best: 5455.71 | Current best: 5455.71 | Execution_time: 30.085[s]\n",
      "Epoch 56: Global best: 5455.71 | Current best: 5455.71 | Execution_time: 30.512[s]\n",
      "Epoch 57: Global best: 5455.71 | Current best: 5455.71 | Execution_time: 30.561[s]\n",
      "Epoch 58: Global best: 5455.71 | Current best: 5455.71 | Execution_time: 31.393[s]\n",
      "Epoch 59: Global best: 5455.71 | Current best: 5455.71 | Execution_time: 30.764[s]\n",
      "Epoch 60: Global best: 6086.19 | Current best: 6086.19 | Execution_time: 27.965[s]\n",
      "Global best: 6086.19  |  Current best: 6086.19  |  Execution_time: 30:7\n"
     ]
    }
   ],
   "source": [
    "best = optimizer.solve(problem_dict)"
   ]
  },
  {
   "cell_type": "code",
   "execution_count": 8,
   "metadata": {},
   "outputs": [],
   "source": [
    "best = optimizer.solve(problem_dict)"
   ]
  }
 ],
 "metadata": {
  "kernelspec": {
   "display_name": ".venv",
   "language": "python",
   "name": "python3"
  },
  "language_info": {
   "codemirror_mode": {
    "name": "ipython",
    "version": 3
   },
   "file_extension": ".py",
   "mimetype": "text/x-python",
   "name": "python",
   "nbconvert_exporter": "python",
   "pygments_lexer": "ipython3",
   "version": "3.11.8"
  }
 },
 "nbformat": 4,
 "nbformat_minor": 2
}
